{
 "cells": [
  {
   "cell_type": "code",
   "execution_count": 1,
   "id": "96158300",
   "metadata": {},
   "outputs": [
    {
     "name": "stderr",
     "output_type": "stream",
     "text": [
      "Installing package into ‘/home/jupyter-tylarmurray/R/x86_64-conda-linux-gnu-library/4.1’\n",
      "(as ‘lib’ is unspecified)\n",
      "\n"
     ]
    }
   ],
   "source": [
    "install.packages(\"here\")"
   ]
  },
  {
   "cell_type": "code",
   "execution_count": 2,
   "id": "6a237b77",
   "metadata": {},
   "outputs": [
    {
     "name": "stderr",
     "output_type": "stream",
     "text": [
      "here() starts at /home/jupyter-tylarmurray/chemtax\n",
      "\n",
      "Warning message in file(filename, \"r\", encoding = encoding):\n",
      "“cannot open file '/home/jupyter-tylarmurray/chemtax/rCHEMTAX/scripts/load_pigment_data.R': No such file or directory”\n"
     ]
    },
    {
     "ename": "ERROR",
     "evalue": "Error in file(filename, \"r\", encoding = encoding): cannot open the connection\n",
     "output_type": "error",
     "traceback": [
      "Error in file(filename, \"r\", encoding = encoding): cannot open the connection\nTraceback:\n",
      "1. source(here(RCHEMTAX_PATH, \"scripts\", \"load_pigment_data.R\"))",
      "2. file(filename, \"r\", encoding = encoding)"
     ]
    }
   ],
   "source": [
    "library(\"here\")\n",
    "\n",
    "RCHEMTAX_PATH <- here(\"rCHEMTAX\")\n",
    "\n",
    "source(here(RCHEMTAX_PATH, \"scripts\", \"load_pigment_data.R\")) # load stock data\n",
    "source(here(RCHEMTAX_PATH, \"scripts\", \"nnmatfactsd.R\")) # non-neg matrix factorization\n",
    "source(here(RCHEMTAX_PATH, \"scripts\", \"normprod.R\")) # normalize outputs"
   ]
  },
  {
   "cell_type": "code",
   "execution_count": null,
   "id": "fbec7673",
   "metadata": {},
   "outputs": [],
   "source": [
    "# load data file\n",
    "data_set <- \"broke\" # 'broke' or 'saz'\n",
    "\n",
    "if (data_set == \"broke\") {\n",
    "  # Brokewest\n",
    "  pig_dat_file <- here(\"data\", \"raw\", \"CHEMTAXBROKEWests.csv\")\n",
    "  p_ratio_file <- here(\"scripts\", \"brokewest_pigment_ratios.csv\")\n",
    "  idx          <- c(1, 0, 0, 1, 1, 0, 1, 1, 1, 1, 1, 0, 1, 1, 0, 0, 1, 0, 1)\n",
    "} else if (data_set == \"saz\") {\n",
    "  # SAZ\n",
    "  pig_dat_file <- here(\"data\", \"raw\", \"SAZS_CHEMTAX090210s.csv\")\n",
    "  p_ratio_file <- here(\"scripts\", \"saz_pigment_ratios.csv\")\n",
    "  idx          <- c(1, 0, 0, 1, 1, 1, 1, 1, 1, 1, 1, 1, 1, 1, 1, 1)\n",
    "}\n",
    "\n",
    "temp <- load_data(\n",
    "  .file     = pig_dat_file,\n",
    "  .pig_file = p_ratio_file,\n",
    "  idx,\n",
    "  type      = \"sd\" # change to either sd or norm\n",
    ")\n",
    "\n",
    "# NOTE: error below is from usage of rstudio::root to determine the rCHEMTAX path so \n",
    "#       that another .R file can be `source`d. \n",
    "# TODO: talk with Sebastian to determine plan for the package-ization of rCHEMTAX"
   ]
  }
 ],
 "metadata": {
  "kernelspec": {
   "display_name": "R",
   "language": "R",
   "name": "ir"
  },
  "language_info": {
   "codemirror_mode": "r",
   "file_extension": ".r",
   "mimetype": "text/x-r-source",
   "name": "R",
   "pygments_lexer": "r",
   "version": "4.1.1"
  }
 },
 "nbformat": 4,
 "nbformat_minor": 5
}
