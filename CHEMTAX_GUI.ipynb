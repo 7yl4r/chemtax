{
 "cells": [
  {
   "cell_type": "code",
   "execution_count": 7,
   "id": "96158300",
   "metadata": {},
   "outputs": [
    {
     "name": "stderr",
     "output_type": "stream",
     "text": [
      "Installing package into ‘/home/jupyter-tylarmurray/R/x86_64-conda-linux-gnu-library/4.1’\n",
      "(as ‘lib’ is unspecified)\n",
      "\n",
      "Installing package into ‘/home/jupyter-tylarmurray/R/x86_64-conda-linux-gnu-library/4.1’\n",
      "(as ‘lib’ is unspecified)\n",
      "\n"
     ]
    }
   ],
   "source": [
    "install.packages(\"here\")\n",
    "install.packages(\"glue\")"
   ]
  },
  {
   "cell_type": "code",
   "execution_count": 12,
   "id": "6a237b77",
   "metadata": {},
   "outputs": [],
   "source": [
    "library(\"here\")\n",
    "library(\"glue\")\n",
    "\n",
    "RCHEMTAX_PATH <- here(\"rCHEMTAX\")\n",
    "RCHEMTAX_SCRIPTS_PATH <- glue(RCHEMTAX_PATH, \"/\", \"scripts\")\n",
    "\n",
    "source(here(RCHEMTAX_SCRIPTS_PATH, \"load_pigment_data.R\")) # load stock data\n",
    "source(here(RCHEMTAX_PATH, \"scripts\", \"nnmatfactsd.R\")) # non-neg matrix factorization\n",
    "source(here(RCHEMTAX_PATH, \"scripts\", \"normprod.R\")) # normalize outputs"
   ]
  },
  {
   "cell_type": "code",
   "execution_count": 13,
   "id": "fbec7673",
   "metadata": {},
   "outputs": [
    {
     "ename": "ERROR",
     "evalue": "Error: No root directory found in /home/jupyter-tylarmurray/chemtax or its parent directories. Root criterion: contains a file matching \"[.]Rproj$\" with contents matching \"^Version: \" in the first line\n",
     "output_type": "error",
     "traceback": [
      "Error: No root directory found in /home/jupyter-tylarmurray/chemtax or its parent directories. Root criterion: contains a file matching \"[.]Rproj$\" with contents matching \"^Version: \" in the first line\nTraceback:\n",
      "1. load_data(.file = pig_dat_file, .pig_file = p_ratio_file, idx, \n .     type = \"sd\")",
      "2. rprojroot::find_rstudio_root_file()",
      "3. find_root_file(..., criterion = criterion, path = path)",
      "4. find_root(criterion = criterion, path = path)",
      "5. stop(\"No root directory found in \", start_path, \" or its parent directories. \", \n .     paste(format(criterion), collapse = \"\\n\"), call. = FALSE)"
     ]
    }
   ],
   "source": [
    "# load data file\n",
    "data_set <- \"broke\" # 'broke' or 'saz'\n",
    "\n",
    "if (data_set == \"broke\") {\n",
    "  # Brokewest\n",
    "  pig_dat_file <- here(\"data\", \"raw\", \"CHEMTAXBROKEWests.csv\")\n",
    "  p_ratio_file <- here(\"scripts\", \"brokewest_pigment_ratios.csv\")\n",
    "  idx          <- c(1, 0, 0, 1, 1, 0, 1, 1, 1, 1, 1, 0, 1, 1, 0, 0, 1, 0, 1)\n",
    "} else if (data_set == \"saz\") {\n",
    "  # SAZ\n",
    "  pig_dat_file <- here(\"data\", \"raw\", \"SAZS_CHEMTAX090210s.csv\")\n",
    "  p_ratio_file <- here(\"scripts\", \"saz_pigment_ratios.csv\")\n",
    "  idx          <- c(1, 0, 0, 1, 1, 1, 1, 1, 1, 1, 1, 1, 1, 1, 1, 1)\n",
    "}\n",
    "\n",
    "temp <- load_data(\n",
    "  .file     = pig_dat_file,\n",
    "  .pig_file = p_ratio_file,\n",
    "  idx,\n",
    "  type      = \"sd\" # change to either sd or norm\n",
    ")\n",
    "\n",
    "# NOTE: error below is from usage of rstudio::root to determine the rCHEMTAX path so \n",
    "#       that another .R file can be `source`d. \n",
    "# TODO: talk with Sebastian to determine plan for the package-ization of rCHEMTAX"
   ]
  },
  {
   "cell_type": "code",
   "execution_count": null,
   "id": "fcc132e4",
   "metadata": {},
   "outputs": [],
   "source": []
  }
 ],
 "metadata": {
  "kernelspec": {
   "display_name": "R",
   "language": "R",
   "name": "ir"
  },
  "language_info": {
   "codemirror_mode": "r",
   "file_extension": ".r",
   "mimetype": "text/x-r-source",
   "name": "R",
   "pygments_lexer": "r",
   "version": "4.1.1"
  }
 },
 "nbformat": 4,
 "nbformat_minor": 5
}
