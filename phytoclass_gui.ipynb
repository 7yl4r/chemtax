{
 "cells": [
  {
   "cell_type": "code",
   "execution_count": null,
   "id": "1c067fdd",
   "metadata": {},
   "outputs": [],
   "source": [
    "install.packages(\"devtools\")\n",
    "devtools::install_github(\"7yl4r/phytoclass\")"
   ]
  },
  {
   "cell_type": "code",
   "execution_count": null,
   "id": "f3db7a45",
   "metadata": {},
   "outputs": [],
   "source": [
    "library(phytoclass)\n",
    "phytoclass::simulated_annealing(S = S,F=F,niter = 500,step = 0.009)"
   ]
  }
 ],
 "metadata": {
  "kernelspec": {
   "display_name": "R",
   "language": "R",
   "name": "ir"
  },
  "language_info": {
   "codemirror_mode": "r",
   "file_extension": ".r",
   "mimetype": "text/x-r-source",
   "name": "R",
   "pygments_lexer": "r",
   "version": "4.1.1"
  }
 },
 "nbformat": 4,
 "nbformat_minor": 5
}
